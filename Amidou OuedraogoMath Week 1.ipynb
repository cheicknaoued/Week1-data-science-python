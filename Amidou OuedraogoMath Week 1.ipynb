{
 "cells": [
  {
   "cell_type": "code",
   "execution_count": null,
   "id": "5546a0dc-613f-40b0-ae63-00855ec09e7c",
   "metadata": {},
   "outputs": [],
   "source": [
    "# y = predicted values\n",
    "# x = actual valuees\n",
    "# n = number of values = array length\n",
    "# We will use len() for the number of values n\n",
    "# The root square is the same as power 0.5\n",
    "# We will use the sum function to sum up"
   ]
  },
  {
   "cell_type": "code",
   "execution_count": null,
   "id": "64fbe64c-e128-41f3-9a2c-f2036663b818",
   "metadata": {},
   "outputs": [],
   "source": []
  },
  {
   "cell_type": "code",
   "execution_count": null,
   "id": "383c3f7a-aea1-4119-b328-2b4a8a02acef",
   "metadata": {},
   "outputs": [],
   "source": [
    "#import data\n",
    "import pandas as pd\n",
    "import numpy as np\n",
    "housing = pd.read_csv('C:\\Math for Data\\week1data\\housing_data.csv')\n",
    "housing.head(3)\n",
    "housing.shape\n",
    "housing.info()\n",
    "housing.describe()"
   ]
  },
  {
   "cell_type": "code",
   "execution_count": null,
   "id": "a2f2e78e-5ebd-4348-8afc-45e0dee91a63",
   "metadata": {},
   "outputs": [],
   "source": [
    "print(housing)"
   ]
  },
  {
   "cell_type": "code",
   "execution_count": null,
   "id": "46cdb4df-e142-4abd-957d-b250cd6baf1c",
   "metadata": {},
   "outputs": [],
   "source": [
    "housing_data_array = np.array(housing_data)\n",
    "housing_data_array = np.array(housing_data, dtype=float)"
   ]
  },
  {
   "cell_type": "code",
   "execution_count": null,
   "id": "65801cd8-9cbb-434d-a583-215f40153c04",
   "metadata": {
    "scrolled": true
   },
   "outputs": [],
   "source": [
    "n = len(y-x)"
   ]
  },
  {
   "cell_type": "code",
   "execution_count": null,
   "id": "be1ee904-5b4b-4c08-9054-071f35c79858",
   "metadata": {},
   "outputs": [],
   "source": [
    "# 1. a. Create a RMSE function\n",
    "\n",
    "RMSE = sum(((y-x)**2)/n)**.5"
   ]
  },
  {
   "cell_type": "code",
   "execution_count": null,
   "id": "8ecbc688-f18b-408f-9a0c-d266fe29cec1",
   "metadata": {},
   "outputs": [],
   "source": [
    "# 1. b Apply RMSE function to data \"sales_price\" and \"sale_price_pred\"\n",
    "# data is already imported"
   ]
  },
  {
   "cell_type": "code",
   "execution_count": null,
   "id": "3ddf2ea3-2a74-4fd2-bb6e-e0b410171461",
   "metadata": {},
   "outputs": [],
   "source": [
    "x = housing['sale_price']\n",
    "y = housing['sale_price_pred']\n",
    "n = len(y-x)\n",
    "RMSE = sum(((y-x)**2)/n)**0.5\n",
    "print(RMSE)"
   ]
  },
  {
   "cell_type": "code",
   "execution_count": null,
   "id": "b789c67c-e25b-499e-9488-cfd576dc9d0f",
   "metadata": {},
   "outputs": [],
   "source": [
    "x = housing['sale_price']\n",
    "y = housing['sale_price_pred']\n",
    "n = len(y-x)\n",
    "RMSE = sum(((y-x)**2)/n)**0.5\n",
    "print(RMSE)"
   ]
  },
  {
   "cell_type": "code",
   "execution_count": null,
   "id": "6cf4ab4a-aad4-47cf-9ee6-ea5117400d12",
   "metadata": {},
   "outputs": [],
   "source": [
    "# 2. a) Repeat problem (1a) above with MAE."
   ]
  },
  {
   "cell_type": "code",
   "execution_count": null,
   "id": "60495b39-dca7-4bb0-b183-f116e712805b",
   "metadata": {},
   "outputs": [],
   "source": [
    "MAE = 1/n*sum(abs(y-x))"
   ]
  },
  {
   "cell_type": "code",
   "execution_count": null,
   "id": "67b92393-f340-4e26-bf8f-2e1534f28830",
   "metadata": {},
   "outputs": [],
   "source": [
    "#2. (b) Repeat problem (1b) above with MAE."
   ]
  },
  {
   "cell_type": "code",
   "execution_count": null,
   "id": "ac3ccc47-5224-4a43-a479-562ad7a9b3a4",
   "metadata": {},
   "outputs": [],
   "source": [
    "x = housing[\"sale_price\"]\n",
    "y = housing[\"sale_price_pred\"]\n",
    "n = len(y-x)\n",
    "MAE = 1/n*sum(abs(y-x))\n",
    "print(MAE)"
   ]
  },
  {
   "cell_type": "code",
   "execution_count": null,
   "id": "5b8c26d3-17f5-40af-879f-164caec6f24a",
   "metadata": {},
   "outputs": [],
   "source": [
    "#a) Build a function that takes in two binary arrays of the same length, where one is actual values\n",
    "and the other predicted values, that calculates the prediction accuracy"
   ]
  },
  {
   "cell_type": "code",
   "execution_count": null,
   "id": "2d224d31-55aa-4af5-95b3-900438f37334",
   "metadata": {},
   "outputs": [],
   "source": [
    "def calculate_accuracy(actual, predicted):\n",
    "\n",
    "    if len(actual) != len(predicted):\n",
    "        raise ValueError(\"Both arrays must be of the same length.\")\n",
    "\n",
    "    total = len(actual)\n",
    "    correct = np.sum(actual == predicted)\n",
    "    accuracy = (correct / total) * 100\n",
    "    return accuracy"
   ]
  },
  {
   "cell_type": "code",
   "execution_count": null,
   "id": "c207c4fd-8c94-4054-b679-ac1b14d1a189",
   "metadata": {},
   "outputs": [],
   "source": [
    "#(b) Apply your accuracy function to the columns “actual” and “predicted” in the mushroom data.csv\n",
    "file and report your result. The columns in this data set indicate the mushroom is poisonous with\n",
    "a “p” and if it is edible with an “e”"
   ]
  },
  {
   "cell_type": "code",
   "execution_count": null,
   "id": "772f8d98-acb0-49bb-8e09-dccab383b0e6",
   "metadata": {},
   "outputs": [],
   "source": [
    "#importing data\n",
    "import pandas as pd\n",
    "import numpy as np\n",
    "mushroom = pd.read_csv('C:\\Math for Data\\week1data\\mushroom_data.csv')"
   ]
  },
  {
   "cell_type": "code",
   "execution_count": null,
   "id": "07c7cc11-d21b-4f38-9498-959d2c592406",
   "metadata": {},
   "outputs": [],
   "source": [
    "# Convert 'p' and 'e' to binary values\n",
    "actual_binary = (mushroom['actual'] == 'p').astype(int)\n",
    "predicted_binary = (mushroom['predicted'] == 'p').astype(int)\n",
    "\n",
    "# Calculate accuracy\n",
    "accuracy = calculate_accuracy(actual_binary, predicted_binary)\n",
    "print(\"Prediction Accuracy:\", accuracy, \"%\")"
   ]
  },
  {
   "cell_type": "code",
   "execution_count": null,
   "id": "949cd143-31c6-4650-8e1a-757c8f143d91",
   "metadata": {},
   "outputs": [],
   "source": []
  },
  {
   "cell_type": "code",
   "execution_count": null,
   "id": "e1732c29-92c4-45bd-93de-c29ed83be283",
   "metadata": {},
   "outputs": [],
   "source": [
    "#4. Assume that the error in a model is measured by the function\n",
    "# lets define the function"
   ]
  },
  {
   "cell_type": "code",
   "execution_count": null,
   "id": "00a6e911-101a-44a2-8684-466eb753fe64",
   "metadata": {},
   "outputs": [],
   "source": [
    "def f(p):\n",
    "    return (0.005*p**6)-(0.27*p**5) + (5.998*p**4)-(69.919*p**3) + (449.17*p**2)-1499.7*p + 2028"
   ]
  },
  {
   "cell_type": "code",
   "execution_count": null,
   "id": "39f304ee-d60a-4668-8030-a9c0ef1fee7c",
   "metadata": {},
   "outputs": [],
   "source": [
    "#(a) Use the Python package matplotlib to plot this function."
   ]
  },
  {
   "cell_type": "code",
   "execution_count": null,
   "id": "c21d4625-6919-410e-8176-b7e6cc5b9ce8",
   "metadata": {},
   "outputs": [],
   "source": [
    "#import matplotlib\n",
    "import matplotlib.pyplot as plt"
   ]
  },
  {
   "cell_type": "code",
   "execution_count": 45,
   "id": "90a5e15b-b4a5-439e-a9fb-dac063881cbb",
   "metadata": {},
   "outputs": [
    {
     "data": {
      "image/png": "[encoded data removed]",
      "text/plain": [
       "<Figure size 640x480 with 1 Axes>"
      ]
     },
     "metadata": {},
     "output_type": "display_data"
    }
   ],
   "source": [
    "# Generate values for p\n",
    "p_values = np.linspace(0,20,10)\n",
    "\n",
    "# Calculate the function values\n",
    "f_values = f(p_values)\n",
    "\n",
    "# Plot the function\n",
    "plt.plot(p_values, f_values)\n",
    "plt.xlabel('p')\n",
    "plt.ylabel('f(p)')\n",
    "plt.title('Plot of the function f(p)')\n",
    "plt.grid(True)\n",
    "plt.ylim(0,2028)\n",
    "plt.show()\n",
    "\n"
   ]
  },
  {
   "cell_type": "code",
   "execution_count": null,
   "id": "de69cf6e-fe40-4f91-a0c8-c1e56ef85af1",
   "metadata": {},
   "outputs": [],
   "source": []
  },
  {
   "cell_type": "code",
   "execution_count": 47,
   "id": "7b0ba108-c16a-4006-a5d6-d8819a1898ae",
   "metadata": {},
   "outputs": [
    {
     "name": "stdout",
     "output_type": "stream",
     "text": [
      "Minimum error occurs at p = 4.444444444444445\n",
      "Minimum error is approximately f(p) = 7.508536225093849\n"
     ]
    }
   ],
   "source": [
    "# \n",
    "# The minimun error seems to occor at p = 5\n",
    "# The code under allows to find the precise value of p (5.18) that minimize error\n",
    "min_error = np.min(f_values)\n",
    "min_error_index = np.argmin(f_values)\n",
    "min_p = p_values[min_error_index]\n",
    "\n",
    "print(\"Minimum error occurs at p =\", min_p)\n",
    "print(\"Minimum error is approximately f(p) =\", min_error)"
   ]
  },
  {
   "cell_type": "code",
   "execution_count": 18,
   "id": "1ca8b262-935a-48a3-a1e7-2f86ec118db7",
   "metadata": {},
   "outputs": [
    {
     "data": {
      "text/latex": [
       "$\\displaystyle \\emptyset$"
      ],
      "text/plain": [
       "∅"
      ]
     },
     "execution_count": 18,
     "metadata": {},
     "output_type": "execute_result"
    }
   ],
   "source": [
    "#(c) Use your graph to estimate the minimum error. Report your result"
   ]
  },
  {
   "cell_type": "code",
   "execution_count": 48,
   "id": "1f1309cf-3183-44c3-9e24-d38665bbd41b",
   "metadata": {},
   "outputs": [
    {
     "data": {
      "text/latex": [
       "$\\displaystyle 10$"
      ],
      "text/plain": [
       "10"
      ]
     },
     "execution_count": 48,
     "metadata": {},
     "output_type": "execute_result"
    }
   ],
   "source": [
    "# the minimum error seems to be close to 0 at p = 5 by looking at the graph"
   ]
  },
  {
   "cell_type": "code",
   "execution_count": null,
   "id": "c067efc8-f799-4173-80f1-c7bbf7926695",
   "metadata": {},
   "outputs": [],
   "source": []
  }
 ],
 "metadata": {
  "kernelspec": {
   "display_name": "Python 3 (ipykernel)",
   "language": "python",
   "name": "python3"
  },
  "language_info": {
   "codemirror_mode": {
    "name": "ipython",
    "version": 3
   },
   "file_extension": ".py",
   "mimetype": "text/x-python",
   "name": "python",
   "nbconvert_exporter": "python",
   "pygments_lexer": "ipython3",
   "version": "3.11.7"
  }
 },
 "nbformat": 4,
 "nbformat_minor": 5
}
